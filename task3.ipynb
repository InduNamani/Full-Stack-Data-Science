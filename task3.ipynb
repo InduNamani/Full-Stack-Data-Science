{
 "cells": [
  {
   "cell_type": "code",
   "execution_count": 1,
   "id": "304fa3cd",
   "metadata": {},
   "outputs": [
    {
     "name": "stdout",
     "output_type": "stream",
     "text": [
      "( 50 * 2 )+ ( 30 * 5 )+ ( 20 * 3 )= 310\n"
     ]
    }
   ],
   "source": [
    "a=int(input(\"1st\"))\n",
    "b=int(input(\"2nd\"))\n",
    "c=int(input(\"3rd\"))\n",
    "q1=int(input(\"1st\"))\n",
    "q2=int(input(\"2nd\"))\n",
    "q3=int(input(\"3rd\"))\n",
    "t=(a*q1)+(b*q2)+(c*q3)\n",
    "print(\"(\",a,\"*\",q1,\")+\",\"(\",b,\"*\",q2,\")+\",\"(\",c,\"*\",q3,\")=\",t)"
   ]
  },
  {
   "cell_type": "code",
   "execution_count": 2,
   "id": "01b2260f",
   "metadata": {},
   "outputs": [
    {
     "name": "stdout",
     "output_type": "stream",
     "text": [
      "Addition 19\n",
      "Subtraction 11\n",
      "Multiplication 60\n",
      "Division 3\n"
     ]
    }
   ],
   "source": [
    "a=int(input(\"1st\"))\n",
    "b=int(input(\"2nd\"))\n",
    "print(\"Addition\",a+b)\n",
    "print(\"Subtraction\",a-b)\n",
    "print(\"Multiplication\",a*b)\n",
    "print(\"Division\",a//b)"
   ]
  },
  {
   "cell_type": "code",
   "execution_count": 3,
   "id": "7b464ca3",
   "metadata": {},
   "outputs": [
    {
     "name": "stdout",
     "output_type": "stream",
     "text": [
      "Grade: A+\n"
     ]
    }
   ],
   "source": [
    "marks = int(input(\"Enter marks: \"))\n",
    "if marks >= 90 and marks <= 100:\n",
    "    grade = \"A+\"\n",
    "elif marks >= 80 and marks <= 89:\n",
    "    grade = \"A(Excellent)\"\n",
    "elif marks >= 70 and marks <= 79:\n",
    "    grade = \"B\"\n",
    "else:\n",
    "    grade = \"Fail\"\n",
    "\n",
    "print(\"Grade:\", grade)\n"
   ]
  },
  {
   "cell_type": "code",
   "execution_count": 4,
   "id": "ee6a7e1f",
   "metadata": {},
   "outputs": [
    {
     "name": "stdout",
     "output_type": "stream",
     "text": [
      "Highest Marks = 99.0\n",
      "Lowest marks = 45.0\n",
      "Average = 78.0\n"
     ]
    }
   ],
   "source": [
    "marks = []\n",
    "for i in range(1, 6):\n",
    "    m = float(input(\"Enter marks : \"))\n",
    "    marks.append(m)\n",
    "print(\"Highest Marks =\",max(marks))\n",
    "print(\"Lowest marks =\",min(marks))\n",
    "print(\"Average =\",(sum(marks))/5)"
   ]
  },
  {
   "cell_type": "code",
   "execution_count": 5,
   "id": "f644c53d",
   "metadata": {},
   "outputs": [
    {
     "name": "stdout",
     "output_type": "stream",
     "text": [
      "\n",
      "Phonebook: {'indu': 9282187600, 'sindu': 98348892478}\n",
      "Phone Number of indu is 9282187600\n"
     ]
    }
   ],
   "source": [
    "phonebook = {}\n",
    "n = int(input(\"enter\"))\n",
    "for i in range(n):\n",
    "    name = input(\"Enter name: \")\n",
    "    number = int(input(\"Enter number: \"))\n",
    "    phonebook[name] = number  \n",
    "print(\"\\nPhonebook:\", phonebook)\n",
    "search_name = input(\"Enter name to search: \")\n",
    "if search_name in phonebook:\n",
    "    print(f\"Phone Number of {search_name} is {phonebook[search_name]}\")\n",
    "else:\n",
    "    print(\"Name not found in phonebook.\")\n"
   ]
  },
  {
   "cell_type": "code",
   "execution_count": 1,
   "id": "d6f5dead",
   "metadata": {},
   "outputs": [
    {
     "name": "stdout",
     "output_type": "stream",
     "text": [
      "Total characters: 17\n",
      "4\n",
      "Total vowels: 6\n"
     ]
    }
   ],
   "source": [
    "a = input(\"Enter the string: \")\n",
    "c = 0\n",
    "for char in a:\n",
    "    c += 1\n",
    "print(\"Total characters:\", c)\n",
    "l = a.split()\n",
    "print(len(l))\n",
    "v = 0\n",
    "s = \"aeiouAEIOU\"   \n",
    "for char in a:\n",
    "    if char in s:\n",
    "        v += 1\n",
    "print(\"Total vowels:\", v)\n"
   ]
  },
  {
   "cell_type": "code",
   "execution_count": 9,
   "id": "26f5b22f",
   "metadata": {},
   "outputs": [
    {
     "name": "stdout",
     "output_type": "stream",
     "text": [
      "Encrypted Message: KHOOR\n"
     ]
    }
   ],
   "source": [
    "message = input(\"Enter message: \")\n",
    "shift = int(input(\"Enter shift key: \"))\n",
    "encrypted = \"\"\n",
    "for char in message:\n",
    "    if char.isalpha():\n",
    "        base = ord('A') if char.isupper() else ord('a')\n",
    "        encrypted += chr((ord(char) - base + shift) % 26 + base)\n",
    "    else:\n",
    "        encrypted += char\n",
    "print(\"Encrypted Message:\", encrypted)\n"
   ]
  },
  {
   "cell_type": "code",
   "execution_count": 11,
   "id": "cbbca45e",
   "metadata": {},
   "outputs": [
    {
     "name": "stdout",
     "output_type": "stream",
     "text": [
      "Withdrawal successful! Remaining Balance: 0\n"
     ]
    }
   ],
   "source": [
    "pin = 1234\n",
    "balance = 5000\n",
    "\n",
    "entered_pin = int(input(\"Enter PIN: \"))\n",
    "if entered_pin == pin:\n",
    "    withdraw = int(input(\"Enter amount to withdraw: \"))\n",
    "    if withdraw <= balance:\n",
    "        balance -= withdraw\n",
    "        print(\"Withdrawal successful! Remaining Balance:\", balance)\n",
    "    else:\n",
    "        print(\"Insufficient Balance\")\n",
    "else:\n",
    "    print(\"Invalid PIN\")\n"
   ]
  },
  {
   "cell_type": "code",
   "execution_count": 13,
   "id": "d25e8417",
   "metadata": {},
   "outputs": [
    {
     "name": "stdout",
     "output_type": "stream",
     "text": [
      "PIN Verified.\n",
      "Insufficient Balance\n"
     ]
    }
   ],
   "source": [
    "\n",
    "entered_pin = int(input(\"Enter PIN: \"))\n",
    "\n",
    "if entered_pin == pin:\n",
    "    print(\"PIN Verified.\")\n",
    "    withdraw = int(input(\"Enter amount to withdraw: \"))\n",
    "    if withdraw <= balance:\n",
    "        balance -= withdraw\n",
    "        print(\"Withdrawal Successful. Remaining Balance =\", balance)\n",
    "    else:\n",
    "        print(\"Insufficient Balance\")\n",
    "else:\n",
    "    print(\"Invalid PIN\")\n"
   ]
  },
  {
   "cell_type": "code",
   "execution_count": 6,
   "id": "063ff348",
   "metadata": {},
   "outputs": [
    {
     "name": "stdout",
     "output_type": "stream",
     "text": [
      "Current Books: ['Python Basics', 'AI Fundamentals', 'ml']\n",
      "3\n"
     ]
    }
   ],
   "source": [
    "books = [\"Python Basics\", \"Data Science\", \"AI Fundamentals\"]\n",
    "add_book = input(\"Add Book: \")\n",
    "books.append(add_book)\n",
    "remove_book = input(\"Remove Book: \")\n",
    "if remove_book in books:\n",
    "    books.remove(remove_book)\n",
    "print(\"Current Books:\", books)\n",
    "print(len(books))\n"
   ]
  }
 ],
 "metadata": {
  "kernelspec": {
   "display_name": "Python 3",
   "language": "python",
   "name": "python3"
  },
  "language_info": {
   "codemirror_mode": {
    "name": "ipython",
    "version": 3
   },
   "file_extension": ".py",
   "mimetype": "text/x-python",
   "name": "python",
   "nbconvert_exporter": "python",
   "pygments_lexer": "ipython3",
   "version": "3.11.0"
  }
 },
 "nbformat": 4,
 "nbformat_minor": 5
}
