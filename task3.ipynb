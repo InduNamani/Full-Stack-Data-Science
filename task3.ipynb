{
 "cells": [
  {
   "cell_type": "code",
   "execution_count": 1,
   "id": "304fa3cd",
   "metadata": {},
   "outputs": [
    {
     "name": "stdout",
     "output_type": "stream",
     "text": [
      "( 50 * 2 )+ ( 30 * 5 )+ ( 20 * 3 )= 310\n"
     ]
    }
   ],
   "source": [
    "a=int(input(\"1st\"))\n",
    "b=int(input(\"2nd\"))\n",
    "c=int(input(\"3rd\"))\n",
    "q1=int(input(\"1st\"))\n",
    "q2=int(input(\"2nd\"))\n",
    "q3=int(input(\"3rd\"))\n",
    "t=(a*q1)+(b*q2)+(c*q3)\n",
    "print(\"(\",a,\"*\",q1,\")+\",\"(\",b,\"*\",q2,\")+\",\"(\",c,\"*\",q3,\")=\",t)"
   ]
  },
  {
   "cell_type": "code",
   "execution_count": null,
   "id": "d6f5dead",
   "metadata": {},
   "outputs": [
    {
     "name": "stdout",
     "output_type": "stream",
     "text": [
      "Toral char 37\n",
      "Total words 3\n",
      "Total vowels aeiou\n",
      "Total vowels aeiou\n",
      "Total vowels aeiou\n",
      "Total vowels aeiou\n"
     ]
    },
    {
     "ename": "NameError",
     "evalue": "name 'v' is not defined",
     "output_type": "error",
     "traceback": [
      "\u001b[31m---------------------------------------------------------------------------\u001b[39m",
      "\u001b[31mNameError\u001b[39m                                 Traceback (most recent call last)",
      "\u001b[36mCell\u001b[39m\u001b[36m \u001b[39m\u001b[32mIn[2]\u001b[39m\u001b[32m, line 11\u001b[39m\n\u001b[32m      9\u001b[39m \u001b[38;5;28;01mfor\u001b[39;00m char \u001b[38;5;129;01min\u001b[39;00m a:\n\u001b[32m     10\u001b[39m     \u001b[38;5;28;01mif\u001b[39;00m(char \u001b[38;5;129;01min\u001b[39;00m s):\n\u001b[32m---> \u001b[39m\u001b[32m11\u001b[39m         \u001b[43mv\u001b[49m+=\u001b[32m1\u001b[39m\n\u001b[32m     12\u001b[39m     \u001b[38;5;28mprint\u001b[39m(\u001b[33m\"\u001b[39m\u001b[33mTotal vowels\u001b[39m\u001b[33m\"\u001b[39m,s)\n",
      "\u001b[31mNameError\u001b[39m: name 'v' is not defined"
     ]
    }
   ],
   "source": [
    "a=input(\"enter the string\")\n",
    "for char in a:\n",
    "    c+=1\n",
    "print(\"Toral char\",c)\n",
    "l=a.split()\n",
    "len=len(l)\n",
    "print(\"Total words\",len)\n",
    "s=\"aeiou\"\n",
    "for char in a:\n",
    "    if(char in s):\n",
    "        v+=1\n",
    "print(\"Total vowels\",s)\n",
    "\n",
    "\n",
    "    "
   ]
  }
 ],
 "metadata": {
  "kernelspec": {
   "display_name": "Python 3",
   "language": "python",
   "name": "python3"
  },
  "language_info": {
   "codemirror_mode": {
    "name": "ipython",
    "version": 3
   },
   "file_extension": ".py",
   "mimetype": "text/x-python",
   "name": "python",
   "nbconvert_exporter": "python",
   "pygments_lexer": "ipython3",
   "version": "3.11.0"
  }
 },
 "nbformat": 4,
 "nbformat_minor": 5
}
