{
 "cells": [
  {
   "cell_type": "code",
   "execution_count": 7,
   "id": "27485fde",
   "metadata": {},
   "outputs": [
    {
     "name": "stdout",
     "output_type": "stream",
     "text": [
      "armstrong\n"
     ]
    }
   ],
   "source": [
    "a=int(input(\"Enter a number\"))\n",
    "temp=a\n",
    "sum=0\n",
    "n=len(str(a))\n",
    "while(a>0):\n",
    "    d=a%10\n",
    "    sum=sum+d**n\n",
    "    a=a//10\n",
    "if(sum==temp):\n",
    "    print(\"armstrong\")\n",
    "else:\n",
    "    print(\"Not armstrong\")\n",
    "\n",
    "\n"
   ]
  },
  {
   "cell_type": "code",
   "execution_count": 9,
   "id": "f42f64b4",
   "metadata": {},
   "outputs": [
    {
     "name": "stdout",
     "output_type": "stream",
     "text": [
      "prime\n"
     ]
    }
   ],
   "source": [
    "a=int(input(\"enter\"))\n",
    "if(a==2):\n",
    "    print(\"prime\")\n",
    "else:\n",
    "    if(a%2!=0):\n",
    "        print(\"prime\")\n",
    "    else:\n",
    "        print(\"not prime\")"
   ]
  },
  {
   "cell_type": "code",
   "execution_count": 10,
   "id": "a5de8482",
   "metadata": {},
   "outputs": [
    {
     "name": "stdout",
     "output_type": "stream",
     "text": [
      "89\n"
     ]
    }
   ],
   "source": [
    "list1=[12,89,90,78]\n",
    "f=min(list1)\n",
    "s=min(list1)\n",
    "for i in list1:\n",
    "    if(i>f):\n",
    "        s=f\n",
    "        f=i\n",
    "    elif(i<f & i>s):\n",
    "        s=i\n",
    "print(s)\n",
    "\n",
    "\n"
   ]
  },
  {
   "cell_type": "code",
   "execution_count": 11,
   "id": "40fd1892",
   "metadata": {},
   "outputs": [
    {
     "name": "stdout",
     "output_type": "stream",
     "text": [
      "650\n"
     ]
    }
   ],
   "source": [
    "evnsum=0\n",
    "for i in range(1,51):\n",
    "    if(i%2==0):\n",
    "        evnsum+=i\n",
    "print(evnsum)"
   ]
  },
  {
   "cell_type": "code",
   "execution_count": 20,
   "id": "5bc0002b",
   "metadata": {},
   "outputs": [
    {
     "name": "stdout",
     "output_type": "stream",
     "text": [
      "1\n",
      "3\n"
     ]
    }
   ],
   "source": [
    "s=input(\"enter the string\")\n",
    "\n",
    "l=0\n",
    "u=0\n",
    "for char in s:\n",
    "    if(char.islower()):\n",
    "        l+=1\n",
    "    else:\n",
    "        u+=1\n",
    "print(u)\n",
    "print(l)\n"
   ]
  },
  {
   "cell_type": "code",
   "execution_count": 23,
   "id": "95afb164",
   "metadata": {},
   "outputs": [
    {
     "name": "stdout",
     "output_type": "stream",
     "text": [
      "They are anagrams\n"
     ]
    }
   ],
   "source": [
    "a=input(\"enter a string\")\n",
    "b=input(\"enter a string\")\n",
    "if(len(a)!=len(b)):\n",
    "    print(\"no\")\n",
    "l1=sorted(a)\n",
    "l2=sorted(b)\n",
    "if(l1==l2):\n",
    "    print(\"They are anagrams\")\n",
    "else:\n",
    "    print(\"no\")"
   ]
  },
  {
   "cell_type": "code",
   "execution_count": 27,
   "id": "aa30b67b",
   "metadata": {},
   "outputs": [
    {
     "name": "stdout",
     "output_type": "stream",
     "text": [
      "Fibonacci sequence:\n",
      "0 1 1 2 3 "
     ]
    }
   ],
   "source": [
    "n = int(input(\"Enter how many Fibonacci numbers: \"))\n",
    "a, b = 0, 1\n",
    "print(\"Fibonacci sequence:\")\n",
    "for i in range(n):\n",
    "    print(a, end=\" \")\n",
    "    a, b = b, a + b"
   ]
  },
  {
   "cell_type": "code",
   "execution_count": 30,
   "id": "01332d3e",
   "metadata": {},
   "outputs": [
    {
     "name": "stdout",
     "output_type": "stream",
     "text": [
      "6\n"
     ]
    }
   ],
   "source": [
    "a=int(input(\"enter the numbers\"))\n",
    "sum=0\n",
    "for i in range(1,a):\n",
    "    if(a%i==0):\n",
    "        sum+=i\n",
    "print(sum)"
   ]
  },
  {
   "cell_type": "code",
   "execution_count": 1,
   "id": "61d42c39",
   "metadata": {},
   "outputs": [
    {
     "name": "stdout",
     "output_type": "stream",
     "text": [
      "\n",
      "--- Report Card ---\n",
      "Marks: [34.0, 45.0, 67.0, 89.0, 9.0]\n",
      "Total: 244.0\n",
      "Percentage: 48.8 %\n",
      "Grade: Fail\n"
     ]
    }
   ],
   "source": [
    "\n",
    "marks = []\n",
    "for i in range(1, 6):\n",
    "    m = float(input(f\"Enter marks of subject {i}: \"))\n",
    "    marks.append(m)\n",
    "total_m = sum(marks)\n",
    "percentage = (total_m / 500) * 100 \n",
    "if percentage >= 90:\n",
    "    grade = \"A\"\n",
    "elif percentage >= 75:\n",
    "    grade = \"B\"\n",
    "elif percentage >= 50:\n",
    "    grade = \"C\"\n",
    "else:\n",
    "    grade = \"Fail\"\n",
    "print(\"\\n--- Report Card ---\")\n",
    "print(\"Marks:\", marks)\n",
    "print(\"Total:\", total_m)\n",
    "print(\"Percentage:\", percentage, \"%\")\n",
    "print(\"Grade:\", grade)\n"
   ]
  },
  {
   "cell_type": "code",
   "execution_count": 10,
   "id": "7180c897",
   "metadata": {},
   "outputs": [
    {
     "name": "stdout",
     "output_type": "stream",
     "text": [
      "2 3 5 7 11 13 17 19 23 29 31 37 41 43 47 53 59 61 67 71 73 79 83 89 97 101 "
     ]
    }
   ],
   "source": [
    "a=int(input(\"Enter the number\"))\n",
    "for i in range(1,a+1):\n",
    "    if i==1:\n",
    "        continue\n",
    "    if(i==2):\n",
    "        print(i,end=\" \")\n",
    "    else:\n",
    "        for j in range(2,i):\n",
    "            if i%j==0:\n",
    "                break\n",
    "        else:\n",
    "            print(i,end=\" \")\n",
    "    "
   ]
  },
  {
   "cell_type": "code",
   "execution_count": 14,
   "id": "ca42d497",
   "metadata": {},
   "outputs": [
    {
     "name": "stdout",
     "output_type": "stream",
     "text": [
      "number of words 3\n"
     ]
    }
   ],
   "source": [
    "se=input(\"enter the string\")\n",
    "words=se.split()\n",
    "c=0\n",
    "for i in words:\n",
    "    c+=1\n",
    "print(\"number of words\",c)\n",
    "    "
   ]
  },
  {
   "cell_type": "code",
   "execution_count": 15,
   "id": "99985e47",
   "metadata": {},
   "outputs": [
    {
     "name": "stdout",
     "output_type": "stream",
     "text": [
      "final ticket  80.0\n",
      "eligible False\n"
     ]
    }
   ],
   "source": [
    "age=int(input(\"enter the age\"))\n",
    "t=int(input(\"enter the ticket\"))\n",
    "is_go=False\n",
    "if(age>=60):\n",
    "    t=t-(t*10)/100\n",
    "    is_go=True\n",
    "else:\n",
    "    t=t-(t*20)/100\n",
    "print(\"final ticket \",t)\n",
    "print(\"eligible\",is_go)"
   ]
  },
  {
   "cell_type": "code",
   "execution_count": 16,
   "id": "078df254",
   "metadata": {},
   "outputs": [
    {
     "name": "stdout",
     "output_type": "stream",
     "text": [
      "1050.0\n"
     ]
    }
   ],
   "source": [
    "cart=float(input(\"enter the total\"))\n",
    "if(cart>500):\n",
    "    d=0\n",
    "    cart=cart+d\n",
    "    print(cart)\n",
    "elif(cart<500):\n",
    "    d=50\n",
    "    cart=cart+d\n",
    "    print(cart)\n",
    "\n"
   ]
  },
  {
   "cell_type": "code",
   "execution_count": null,
   "id": "04b023ab",
   "metadata": {},
   "outputs": [],
   "source": [
    "marks = int(input(\"Enter marks: \"))\n",
    "if marks >= 90 and marks <= 100:\n",
    "    grade = \"A\"\n",
    "elif marks >= 75 and marks <= 89:\n",
    "    grade = \"B\"\n",
    "elif marks >= 50 and marks <= 74:\n",
    "    grade = \"C\"\n",
    "else:\n",
    "    grade = \"Fail\"\n",
    "\n",
    "print(\"Grade:\", grade)\n"
   ]
  },
  {
   "cell_type": "code",
   "execution_count": 18,
   "id": "595906b8",
   "metadata": {},
   "outputs": [
    {
     "name": "stdout",
     "output_type": "stream",
     "text": [
      "Tip to be added: 825.0\n"
     ]
    }
   ],
   "source": [
    "bill = float(input(\"Enter the bill amount: \"))\n",
    "if bill < 500:\n",
    "    tip = bill * 5 / 100   \n",
    "elif bill <= 1000:\n",
    "    tip = bill * 10 / 100\n",
    "else:\n",
    "    tip = bill * 15 / 100  \n",
    "print(\"Tip to be added:\", tip)\n"
   ]
  },
  {
   "cell_type": "code",
   "execution_count": 19,
   "id": "3cec75f0",
   "metadata": {},
   "outputs": [
    {
     "name": "stdout",
     "output_type": "stream",
     "text": [
      "Cheapest option cost: ₹ 10500\n"
     ]
    }
   ],
   "source": [
    "months = int(input(\"Enter membership period in months: \"))\n",
    "normal_cost = months * 500\n",
    "pack6 = (months // 6) * 2700 + (months % 6) * 500\n",
    "pack12 = (months // 12) * 5000 + (months % 12) * 500\n",
    "cheapest = min(normal_cost, pack6, pack12)\n",
    "print(\"Cheapest option cost: ₹\", cheapest)\n"
   ]
  },
  {
   "cell_type": "code",
   "execution_count": 23,
   "id": "73d4329f",
   "metadata": {},
   "outputs": [
    {
     "name": "stdout",
     "output_type": "stream",
     "text": [
      "eligible\n"
     ]
    }
   ],
   "source": [
    "tot_c=int(input(\"enter a number\"))\n",
    "c_a=int(input(\"enter attended clses\"))\n",
    "a=(c_a/tot_c)*100\n",
    "if(a<75):\n",
    "    print(\"Not eligible\")\n",
    "else:\n",
    "    print(\"eligible\")"
   ]
  },
  {
   "cell_type": "code",
   "execution_count": 24,
   "id": "3e4f0b2e",
   "metadata": {},
   "outputs": [
    {
     "name": "stdout",
     "output_type": "stream",
     "text": [
      "unsuccesful\n"
     ]
    }
   ],
   "source": [
    "amount=int(input(\"enter number\"))\n",
    "if(amount%100==0):\n",
    "    print(\"successful\")\n",
    "else:\n",
    "    print(\"unsuccesful\")"
   ]
  },
  {
   "cell_type": "code",
   "execution_count": 26,
   "id": "23dcd373",
   "metadata": {},
   "outputs": [
    {
     "name": "stdout",
     "output_type": "stream",
     "text": [
      "too Hot,stay indoors\n"
     ]
    }
   ],
   "source": [
    "temp=int(input(\"enter the tempersture\"))\n",
    "if(temp>=35):\n",
    "    print(\"too Hot,stay indoors\")\n",
    "elif(temp>20 & temp<35):\n",
    "    print(\"Nice weather,go out!\")\n",
    "else:\n",
    "    print(\"Its cold,wear warm clothes!\")"
   ]
  },
  {
   "cell_type": "code",
   "execution_count": null,
   "id": "8a49bc18",
   "metadata": {},
   "outputs": [
    {
     "name": "stdout",
     "output_type": "stream",
     "text": [
      "Fine amount: ₹ 100\n"
     ]
    }
   ],
   "source": [
    "days = int(input(\"Enter number of late days: \"))\n",
    "if days >= 1 and days <= 5:\n",
    "    fine = 10\n",
    "elif days >= 6 and days <= 10:\n",
    "    fine = 50\n",
    "elif days > 10:\n",
    "    fine = 100\n",
    "else:\n",
    "    fine = 0\n",
    "print(\"Fine amount\", fine)"
   ]
  },
  {
   "cell_type": "code",
   "execution_count": 29,
   "id": "7a6108fa",
   "metadata": {},
   "outputs": [
    {
     "name": "stdout",
     "output_type": "stream",
     "text": [
      "Bill amount 250\n"
     ]
    }
   ],
   "source": [
    "units = int(input(\"Enter units consumed: \"))\n",
    "if units <= 100:\n",
    "    bill = units * 5\n",
    "elif units <= 200:\n",
    "    bill = (100 * 5) + (units - 100) * 7\n",
    "else:\n",
    "    bill = (100 * 5) + (100 * 7) + (units - 200) * 10\n",
    "print(\"Bill amount\", bill)\n"
   ]
  }
 ],
 "metadata": {
  "kernelspec": {
   "display_name": "Python 3",
   "language": "python",
   "name": "python3"
  },
  "language_info": {
   "codemirror_mode": {
    "name": "ipython",
    "version": 3
   },
   "file_extension": ".py",
   "mimetype": "text/x-python",
   "name": "python",
   "nbconvert_exporter": "python",
   "pygments_lexer": "ipython3",
   "version": "3.11.0"
  }
 },
 "nbformat": 4,
 "nbformat_minor": 5
}
