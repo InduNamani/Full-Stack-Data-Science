{
 "cells": [
  {
   "cell_type": "code",
   "execution_count": 6,
   "id": "aba3c695",
   "metadata": {},
   "outputs": [
    {
     "name": "stdout",
     "output_type": "stream",
     "text": [
      "The length is :2\n"
     ]
    }
   ],
   "source": [
    "s=input(\"enter the string\")\n",
    "words=s.split()\n",
    "res=len(words)\n",
    "print(f\"The length is :{res}\")"
   ]
  },
  {
   "cell_type": "code",
   "execution_count": 8,
   "id": "111619ca",
   "metadata": {},
   "outputs": [
    {
     "name": "stdout",
     "output_type": "stream",
     "text": [
      "The password is strong\n"
     ]
    }
   ],
   "source": [
    "s = input(\"Enter the password: \")\n",
    "\n",
    "if len(s) > 6:\n",
    "    has_lower = any(c.islower() for c in s)\n",
    "    has_upper = any(c.isupper() for c in s)\n",
    "    has_digit = any(c.isdigit() for c in s)\n",
    "    has_special = any(not c.isalnum() for c in s)  \n",
    "    if has_lower and has_upper and has_digit and has_special:\n",
    "        print(\"The password is strong\")\n",
    "    else:\n",
    "        print(\"The password is weak\")\n",
    "else:\n",
    "    print(\"The password is too short\")\n"
   ]
  },
  {
   "cell_type": "code",
   "execution_count": 13,
   "id": "146346b1",
   "metadata": {},
   "outputs": [
    {
     "name": "stdout",
     "output_type": "stream",
     "text": [
      "result:20\n"
     ]
    }
   ],
   "source": [
    "def cal():\n",
    "    a=int(input('enter a number'))\n",
    "    b=int(input('enter a number'))\n",
    "    op=input(\"enter a operator\")\n",
    "    if op=='+':\n",
    "        res=a+b\n",
    "    elif op=='-':\n",
    "        res=a-b\n",
    "    elif op=='*':\n",
    "        res=a*b\n",
    "    elif op=='/':\n",
    "        res=a/b\n",
    "    else:\n",
    "        print(\"Invalid op\")\n",
    "        return\n",
    "    print(f\"result:{res}\")\n",
    "\n",
    "cal()"
   ]
  },
  {
   "cell_type": "code",
   "execution_count": 16,
   "id": "6c9a50cf",
   "metadata": {},
   "outputs": [
    {
     "name": "stdout",
     "output_type": "stream",
     "text": [
      "Duplicate names: ['indu']\n"
     ]
    }
   ],
   "source": [
    "def find(names):\n",
    "    count = {}\n",
    "    duplicates = set()\n",
    "    for name in names:\n",
    "        if name in count:\n",
    "            count[name] += 1\n",
    "            duplicates.add(name)\n",
    "        else:\n",
    "            count[name] = 1\n",
    "            \n",
    "    return list(duplicates)\n",
    "\n",
    "n=int(input(\"enter the number\"))\n",
    "l=[]\n",
    "for i in range(n+1):\n",
    "    item=input(\"enter the name\")\n",
    "    l.append(item)\n",
    "print(\"Duplicate names:\", find(l))\n"
   ]
  },
  {
   "cell_type": "code",
   "execution_count": 17,
   "id": "710b6f83",
   "metadata": {},
   "outputs": [
    {
     "name": "stdout",
     "output_type": "stream",
     "text": [
      "98.0°F is equal to 36.67°C\n"
     ]
    }
   ],
   "source": [
    "def convert_temperature():\n",
    "    choice = input(\"Convert to (C)elsius or (F)ahrenheit? Enter C or F: \").strip().upper()\n",
    "    if choice == 'C':\n",
    "        f = float(input(\"Enter temperature in Fahrenheit: \"))\n",
    "        c = (f - 32) * 5 / 9\n",
    "        print(f\"{f}°F is equal to {round(c, 2)}°C\")\n",
    "    elif choice == 'F':\n",
    "        c = float(input(\"Enter temperature in Celsius: \"))\n",
    "        f = (c * 9 / 5) + 32\n",
    "        print(f\"{c}°C is equal to {round(f, 2)}°F\")\n",
    "    else:\n",
    "        print(\"Invalid choice. Please enter 'C' or 'F'.\")\n",
    "convert_temperature()\n"
   ]
  },
  {
   "cell_type": "code",
   "execution_count": 20,
   "id": "e2e35e84",
   "metadata": {},
   "outputs": [
    {
     "name": "stdout",
     "output_type": "stream",
     "text": [
      "[1, 2, 3]\n",
      "3\n"
     ]
    }
   ],
   "source": [
    "import math\n",
    "n=int(input(\"enter the number\"))\n",
    "l=[]\n",
    "for i in range(n+1):\n",
    "    num=int(input(\"enter the number\"))\n",
    "    l.append(num)\n",
    "print(l)\n",
    "print(max(l))"
   ]
  },
  {
   "cell_type": "code",
   "execution_count": 23,
   "id": "96c9e0b7",
   "metadata": {},
   "outputs": [
    {
     "name": "stdout",
     "output_type": "stream",
     "text": [
      "Simple Interest is: 600.0\n"
     ]
    }
   ],
   "source": [
    "def calculate_simple_interest():\n",
    "    principal = float(input(\"Enter the principal amount: \"))\n",
    "    rate = float(input(\"Enter the annual rate of interest (in %): \"))\n",
    "    time = float(input(\"Enter the time (in years): \"))\n",
    "    \n",
    "    simple_interest = (principal * rate * time) / 100\n",
    "    print(f\"Simple Interest is: {round(simple_interest, 2)}\")\n",
    "\n",
    "calculate_simple_interest()\n"
   ]
  },
  {
   "cell_type": "code",
   "execution_count": 25,
   "id": "3ba49113",
   "metadata": {},
   "outputs": [
    {
     "name": "stdout",
     "output_type": "stream",
     "text": [
      "{'indu'}\n",
      "{'indu': 70, 'sindu': 90, 'harsh': 89}\n"
     ]
    }
   ],
   "source": [
    "s={}\n",
    "fail=set()\n",
    "n=int(input(\"Enter count\"))\n",
    "for i in range(n+1):\n",
    "    name=input(\"enter the name\")\n",
    "    att=int(input(\"enter the att\"))\n",
    "    if att<75:\n",
    "        fail.add(name)\n",
    "    s[name]=att\n",
    "print(fail)\n",
    "print(s)\n",
    "\n",
    "    "
   ]
  },
  {
   "cell_type": "code",
   "execution_count": 27,
   "id": "c09cce15",
   "metadata": {},
   "outputs": [
    {
     "name": "stdout",
     "output_type": "stream",
     "text": [
      "10\n"
     ]
    }
   ],
   "source": [
    "n=int(input(\"enter the number\"))\n",
    "s=0\n",
    "while(n>0):\n",
    "    d=n%10\n",
    "    s+=d\n",
    "    n//=10\n",
    "print(s)"
   ]
  },
  {
   "cell_type": "code",
   "execution_count": 32,
   "id": "e14446f4",
   "metadata": {},
   "outputs": [
    {
     "name": "stdout",
     "output_type": "stream",
     "text": [
      "[2, 3, 5]\n"
     ]
    }
   ],
   "source": [
    "def is_prime(n):\n",
    "    if n < 2:\n",
    "        return False\n",
    "    for i in range(2, n):\n",
    "        if n % i == 0:\n",
    "            return False\n",
    "    return True\n",
    "def fun_prime(n):\n",
    "    primes = []\n",
    "    for i in range(2, n+1):\n",
    "        if is_prime(i):\n",
    "            primes.append(i)\n",
    "    return primes\n",
    "n = int(input(\"Enter a number: \"))\n",
    "print(fun_prime(n))"
   ]
  },
  {
   "cell_type": "code",
   "execution_count": 33,
   "id": "6415f623",
   "metadata": {},
   "outputs": [
    {
     "name": "stdout",
     "output_type": "stream",
     "text": [
      "the max is 78\n",
      "the min is 12\n"
     ]
    }
   ],
   "source": [
    "l=[12,34,56,78]\n",
    "print(\"the max is\",max(l))\n",
    "print(\"the min is\",min(l))"
   ]
  },
  {
   "cell_type": "code",
   "execution_count": 34,
   "id": "b619b671",
   "metadata": {},
   "outputs": [
    {
     "name": "stdout",
     "output_type": "stream",
     "text": [
      "total bill is40075\n"
     ]
    }
   ],
   "source": [
    "dic={\"pen\":25,\"book\":50,\"laptop\":40000}\n",
    "sum=0\n",
    "for key in dic:\n",
    "    sum+=dic[key]\n",
    "print(f\"total bill is{sum}\")"
   ]
  },
  {
   "cell_type": "code",
   "execution_count": 37,
   "id": "2c80750d",
   "metadata": {},
   "outputs": [
    {
     "name": "stdout",
     "output_type": "stream",
     "text": [
      "5\n"
     ]
    }
   ],
   "source": [
    "print(max(map(int, input(\"Enter 3 numbers: \").split())))\n"
   ]
  },
  {
   "cell_type": "code",
   "execution_count": 41,
   "id": "d33e4db0",
   "metadata": {},
   "outputs": [
    {
     "name": "stdout",
     "output_type": "stream",
     "text": [
      "Character counts:\n",
      "h: 1 \n",
      "e: 1 \n",
      "l: 2 \n",
      "o: 1 \n"
     ]
    }
   ],
   "source": [
    "s = input(\"Enter a string: \")\n",
    "count = {}\n",
    "for char in s:\n",
    "    count[char]=count.get(char,0)+1\n",
    "print(\"Character counts:\")\n",
    "for char, freq in count.items():\n",
    "    print(f\"{char}: {freq} \")\n",
    "\n"
   ]
  },
  {
   "cell_type": "code",
   "execution_count": 43,
   "id": "0fd78d06",
   "metadata": {},
   "outputs": [
    {
     "name": "stdout",
     "output_type": "stream",
     "text": [
      "400\n"
     ]
    }
   ],
   "source": [
    "u=int(input(\"enter number\"))\n",
    "if u<100:\n",
    "    price=u*5\n",
    "elif u>=100:\n",
    "    price=(u-100)*7+100*5\n",
    "else:\n",
    "    price=(u-200)*10+100*7+100*5\n",
    "print(price)"
   ]
  },
  {
   "cell_type": "code",
   "execution_count": 44,
   "id": "1bdb83c7",
   "metadata": {},
   "outputs": [
    {
     "name": "stdout",
     "output_type": "stream",
     "text": [
      "['eesha', 'indu', 'niha']\n"
     ]
    }
   ],
   "source": [
    "l=[\"indu\",\"eesha\",\"niha\"]\n",
    "m=sorted(l)\n",
    "print(m)"
   ]
  },
  {
   "cell_type": "code",
   "execution_count": 45,
   "id": "8d11630a",
   "metadata": {},
   "outputs": [
    {
     "name": "stdout",
     "output_type": "stream",
     "text": [
      "4321\n"
     ]
    }
   ],
   "source": [
    "n=int(input(\"enter a number\"))\n",
    "rev=0\n",
    "while(n>0):\n",
    "    d=n%10\n",
    "    rev=rev*10+d\n",
    "    n//=10\n",
    "print(rev)"
   ]
  },
  {
   "cell_type": "code",
   "execution_count": 47,
   "id": "83c3ecfa",
   "metadata": {},
   "outputs": [
    {
     "name": "stdout",
     "output_type": "stream",
     "text": [
      "pos 2,neg 2,zero 1\n"
     ]
    }
   ],
   "source": [
    "l=[1,0,9,-2,-4]\n",
    "c_p=0\n",
    "c_n=0\n",
    "z=0\n",
    "for i in l:\n",
    "    if i>0:\n",
    "        c_p+=1\n",
    "    elif i<0:\n",
    "        c_n+=1\n",
    "    else:\n",
    "        z+=1\n",
    "print(f\"pos {c_p},neg {c_p},zero {z}\")"
   ]
  },
  {
   "cell_type": "code",
   "execution_count": 1,
   "id": "eaba9e97",
   "metadata": {},
   "outputs": [
    {
     "name": "stdout",
     "output_type": "stream",
     "text": [
      "PIN accepted. Access granted.\n"
     ]
    }
   ],
   "source": [
    "correct_pin = \"1234\"\n",
    "attempts = 3\n",
    "\n",
    "while attempts > 0:\n",
    "    entered_pin = input(\"Enter your PIN: \")\n",
    "    if entered_pin == correct_pin:\n",
    "        print(\"PIN accepted. Access granted.\")\n",
    "        break\n",
    "    else:\n",
    "        attempts -= 1\n",
    "        print(f\"Incorrect PIN. {attempts} attempt(s) remaining.\")\n",
    "else:\n",
    "    print(\"Access denied. No attempts left.\")\n"
   ]
  },
  {
   "cell_type": "code",
   "execution_count": 2,
   "id": "1fdbf0f8",
   "metadata": {},
   "outputs": [
    {
     "name": "stdout",
     "output_type": "stream",
     "text": [
      "The result of division is: 0.6666666666666666\n"
     ]
    }
   ],
   "source": [
    "try:\n",
    "    num1 = float(input(\"Enter the first number: \"))\n",
    "    num2 = float(input(\"Enter the second number: \"))\n",
    "    result = num1 / num2\n",
    "    print(f\"The result of division is: {result}\")\n",
    "except ZeroDivisionError:\n",
    "    print(\"Error: Cannot divide by zero.\")\n",
    "except ValueError:\n",
    "    print(\"Error: Please enter valid numbers.\")\n",
    "\n",
    "    "
   ]
  },
  {
   "cell_type": "code",
   "execution_count": null,
   "id": "6d1a56c3",
   "metadata": {},
   "outputs": [],
   "source": [
    "try:\n",
    "    num1 = float(input(\"Enter the first number: \"))\n",
    "    num2 = float(input(\"Enter the second number: \"))\n",
    "    result = num1 / num2\n",
    "    print(f\"The result of division is: {result}\")\n",
    "except ValueError:\n",
    "    print(\"Error: Invalid input. Please enter numeric values.\")\n",
    "except ZeroDivisionError:\n",
    "    print(\"Error: Cannot divide by zero.\")\n"
   ]
  },
  {
   "cell_type": "code",
   "execution_count": 3,
   "id": "c4151222",
   "metadata": {},
   "outputs": [
    {
     "name": "stdout",
     "output_type": "stream",
     "text": [
      "Error: Withdrawal amount exceeds available balance.\n"
     ]
    }
   ],
   "source": [
    "class InsufficientBalanceError(Exception):\n",
    "    pass\n",
    "def withdraw(balance, amount):\n",
    "    if amount > balance:\n",
    "        raise InsufficientBalanceError(\"Error: Withdrawal amount exceeds available balance.\")\n",
    "    return balance - amount\n",
    "balance = 1000  \n",
    "try:\n",
    "    amount = float(input(\"Enter amount to withdraw: \"))\n",
    "    new_balance = withdraw(balance, amount)\n",
    "    print(f\"Withdrawal successful. New balance: ₹{new_balance}\")\n",
    "except InsufficientBalanceError as e:\n",
    "    print(e)\n",
    "except ValueError:\n",
    "    print(\"Error: Please enter a valid amount.\")\n"
   ]
  }
 ],
 "metadata": {
  "kernelspec": {
   "display_name": ".venv",
   "language": "python",
   "name": "python3"
  },
  "language_info": {
   "codemirror_mode": {
    "name": "ipython",
    "version": 3
   },
   "file_extension": ".py",
   "mimetype": "text/x-python",
   "name": "python",
   "nbconvert_exporter": "python",
   "pygments_lexer": "ipython3",
   "version": "3.12.4"
  }
 },
 "nbformat": 4,
 "nbformat_minor": 5
}
